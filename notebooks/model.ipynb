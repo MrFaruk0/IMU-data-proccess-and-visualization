{
 "cells": [
  {
   "cell_type": "code",
   "execution_count": 1,
   "id": "2882f90b",
   "metadata": {},
   "outputs": [
    {
     "name": "stdout",
     "output_type": "stream",
     "text": [
      "   time index     acc_x     acc_y     acc_z     gyr_x     gyr_y     gyr_z  \\\n",
      "0           1 -9.685645 -1.645149  0.505022 -0.020696  0.009202 -0.008566   \n",
      "1           2 -9.648184 -1.645353  0.513125 -0.008165 -0.001407 -0.003256   \n",
      "2           3 -9.700570 -1.615223  0.512321 -0.004447  0.011059 -0.008589   \n",
      "3           4 -9.685627 -1.630183  0.497591 -0.026110  0.009183 -0.008554   \n",
      "4           5 -9.655697 -1.630194  0.460742 -0.008109  0.001231 -0.005950   \n",
      "\n",
      "      mag_x     mag_y     mag_z  time subject exercise unit  \n",
      "0  0.589728  0.453403 -0.075234  0.00      s1       e1   u1  \n",
      "1  0.587024  0.453644 -0.075593  0.04      s1       e1   u1  \n",
      "2  0.589691  0.454598 -0.075525  0.08      s1       e1   u1  \n",
      "3  0.589240  0.452864 -0.074705  0.12      s1       e1   u1  \n",
      "4  0.589647  0.452882 -0.076429  0.16      s1       e1   u1  \n"
     ]
    }
   ],
   "source": [
    "import pandas as pd\n",
    "import sys\n",
    "sys.path.append(\"..\")\n",
    "\n",
    "from src.data_read import load_data\n",
    "from src.preprocess import extract\n",
    "from src.model import sensor_fusion, train_model\n",
    "\n",
    "df = load_data()\n",
    "print(df.head())\n",
    "\n"
   ]
  },
  {
   "cell_type": "code",
   "execution_count": 2,
   "id": "4d6f32cb",
   "metadata": {},
   "outputs": [
    {
     "name": "stdout",
     "output_type": "stream",
     "text": [
      "  subject exercise unit  acc_x_mean  acc_y_mean  acc_z_mean  gyr_x_mean  \\\n",
      "0      s1       e1   u1   -9.663837   -1.661618    0.446290   -0.008936   \n",
      "1      s1       e1   u2   -5.558458    5.977689    1.741465    0.004415   \n",
      "2      s1       e1   u3   -2.946522    9.307413    1.166095   -0.013362   \n",
      "3      s1       e1   u4    8.923568    1.992883    3.455442    0.009723   \n",
      "4      s1       e1   u5   -4.107289   -7.582717   -4.645215    0.000607   \n",
      "\n",
      "   gyr_y_mean  gyr_z_mean  acc_x_std  acc_y_std  acc_z_std  gyr_x_std  \\\n",
      "0    0.003260   -0.003703   0.021150   0.054985   0.188886   0.010407   \n",
      "1    0.021507   -0.001964   3.888564   3.240048   0.880591   0.038172   \n",
      "2    0.006534   -0.005109   0.462521   0.107882   0.597996   0.086305   \n",
      "3    0.003495    0.001923   0.091607   0.067167   0.217630   0.020957   \n",
      "4   -0.002237   -0.005169   0.057026   0.058384   0.067668   0.019378   \n",
      "\n",
      "   gyr_y_std  gyr_z_std  \n",
      "0   0.010943   0.011569  \n",
      "1   0.160773   0.648173  \n",
      "2   0.052748   0.073043  \n",
      "3   0.022420   0.010250  \n",
      "4   0.008319   0.010336  \n"
     ]
    }
   ],
   "source": [
    "features_df = extract(df)\n",
    "print(features_df.head())"
   ]
  },
  {
   "cell_type": "code",
   "execution_count": 3,
   "id": "b99ca90f",
   "metadata": {},
   "outputs": [
    {
     "name": "stdout",
     "output_type": "stream",
     "text": [
      "  subject exercise  u1_acc_x_mean  u1_acc_y_mean  u1_acc_z_mean  \\\n",
      "0      s1       e1      -9.663837      -1.661618       0.446290   \n",
      "1      s1       e2      -8.861180       3.819691      -1.943059   \n",
      "2      s1       e3       0.127634      -9.711051      -0.461772   \n",
      "3      s1       e4       0.970569      -2.132580      -9.475785   \n",
      "4      s1       e5       1.001279       3.393217      -9.136723   \n",
      "\n",
      "   u1_gyr_x_mean  u1_gyr_y_mean  u1_gyr_z_mean  u1_acc_x_std  u1_acc_y_std  \\\n",
      "0      -0.008936       0.003260      -0.003703      0.021150      0.054985   \n",
      "1      -0.007684       0.003093      -0.003987      0.033896      0.043869   \n",
      "2      -0.008910       0.002870      -0.003495      0.086446      0.029494   \n",
      "3      -0.008186       0.002959      -0.003740      0.039315      0.175837   \n",
      "4      -0.007766       0.002778      -0.004097      0.128265      0.208928   \n",
      "\n",
      "   ...  u5_acc_z_mean  u5_gyr_x_mean  u5_gyr_y_mean  u5_gyr_z_mean  \\\n",
      "0  ...      -4.645215       0.000607      -0.002237      -0.005169   \n",
      "1  ...      -2.982398       0.001348      -0.001526      -0.005719   \n",
      "2  ...       0.963207       0.000733      -0.002415      -0.005310   \n",
      "3  ...      -9.557301       0.001548      -0.002120      -0.005620   \n",
      "4  ...      -6.416227       0.001619      -0.002044      -0.005460   \n",
      "\n",
      "   u5_acc_x_std  u5_acc_y_std  u5_acc_z_std  u5_gyr_x_std  u5_gyr_y_std  \\\n",
      "0      0.057026      0.058384      0.067668      0.019378      0.008319   \n",
      "1      0.135503      0.105172      0.083917      0.017140      0.012027   \n",
      "2      0.093812      0.044882      0.267228      0.027777      0.009702   \n",
      "3      0.065321      0.159562      0.055154      0.013048      0.008632   \n",
      "4      0.049274      0.110605      0.127144      0.024084      0.011300   \n",
      "\n",
      "   u5_gyr_z_std  \n",
      "0      0.010336  \n",
      "1      0.029456  \n",
      "2      0.013683  \n",
      "3      0.006605  \n",
      "4      0.013062  \n",
      "\n",
      "[5 rows x 62 columns]\n"
     ]
    }
   ],
   "source": [
    "fused_features = sensor_fusion(features_df)\n",
    "print(fused_features.head())"
   ]
  },
  {
   "cell_type": "code",
   "execution_count": 4,
   "id": "25c4f831",
   "metadata": {},
   "outputs": [
    {
     "name": "stdout",
     "output_type": "stream",
     "text": [
      "Değerlendirme\n",
      "              precision    recall  f1-score   support\n",
      "\n",
      "          e1       1.00      1.00      1.00         1\n",
      "          e2       1.00      1.00      1.00         1\n",
      "          e3       1.00      1.00      1.00         1\n",
      "          e4       1.00      1.00      1.00         1\n",
      "          e5       1.00      1.00      1.00         1\n",
      "          e6       1.00      1.00      1.00         1\n",
      "          e7       1.00      1.00      1.00         1\n",
      "          e8       1.00      1.00      1.00         1\n",
      "\n",
      "    accuracy                           1.00         8\n",
      "   macro avg       1.00      1.00      1.00         8\n",
      "weighted avg       1.00      1.00      1.00         8\n",
      "\n"
     ]
    }
   ],
   "source": [
    "model = train_model(fused_features)"
   ]
  },
  {
   "cell_type": "code",
   "execution_count": 5,
   "id": "bef401ec",
   "metadata": {},
   "outputs": [
    {
     "name": "stdout",
     "output_type": "stream",
     "text": [
      "Tahmin: e1\n"
     ]
    }
   ],
   "source": [
    "sample= fused_features.drop([\"subject\", \"exercise\"], axis=1).iloc[[0]]\n",
    "pred = model.predict(sample)\n",
    "print(\"Tahmin:\", pred[0])"
   ]
  }
 ],
 "metadata": {
  "kernelspec": {
   "display_name": "Python 3",
   "language": "python",
   "name": "python3"
  },
  "language_info": {
   "codemirror_mode": {
    "name": "ipython",
    "version": 3
   },
   "file_extension": ".py",
   "mimetype": "text/x-python",
   "name": "python",
   "nbconvert_exporter": "python",
   "pygments_lexer": "ipython3",
   "version": "3.12.8"
  }
 },
 "nbformat": 4,
 "nbformat_minor": 5
}
